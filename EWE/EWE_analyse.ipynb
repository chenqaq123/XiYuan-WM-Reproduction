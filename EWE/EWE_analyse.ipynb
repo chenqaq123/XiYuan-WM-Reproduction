{
 "cells": [
  {
   "cell_type": "markdown",
   "metadata": {},
   "source": [
    "# EWE分析"
   ]
  },
  {
   "cell_type": "markdown",
   "metadata": {},
   "source": [
    "## 1. 导入必要的库和类"
   ]
  },
  {
   "cell_type": "code",
   "execution_count": 28,
   "metadata": {},
   "outputs": [],
   "source": [
    "import torch\n",
    "import torch.nn as nn\n",
    "from torch.utils.data import DataLoader, TensorDataset\n",
    "\n",
    "from models.conv import ConvModel\n",
    "\n",
    "import os\n",
    "import pickle\n",
    "import numpy as np\n",
    "from tqdm import tqdm"
   ]
  },
  {
   "cell_type": "code",
   "execution_count": 29,
   "metadata": {},
   "outputs": [],
   "source": [
    "from utils.utils import setup_seed"
   ]
  },
  {
   "cell_type": "markdown",
   "metadata": {},
   "source": [
    "## 2. 运行设置"
   ]
  },
  {
   "cell_type": "code",
   "execution_count": 30,
   "metadata": {},
   "outputs": [],
   "source": [
    "dataset = \"mnist\"\n",
    "model_type = '2_conv'\n",
    "shuffle = True\n",
    "\n",
    "device = torch.device(\"cuda\" if torch.cuda.is_available() else \"cpu\")\n",
    "\n",
    "seed = 44\n",
    "setup_seed(seed)"
   ]
  },
  {
   "cell_type": "code",
   "execution_count": 31,
   "metadata": {},
   "outputs": [],
   "source": [
    "if dataset == 'mnist':\n",
    "    model_type = '2_conv'\n",
    "    batch_size = 512\n",
    "    epochs = 10\n",
    "    source = 1 \n",
    "    target = 7\n",
    "    num_classes = 10\n",
    "    channels = 1\n",
    "elif dataset == 'fashion':\n",
    "    num_classes = 10\n",
    "    channels = 1\n",
    "    if model_type == '2_conv':\n",
    "        batch_size = 128\n",
    "        epochs = 10\n",
    "        source = 8\n",
    "        target = 0\n",
    "else:\n",
    "    raise NotImplementedError('Dataset is not implemented.')"
   ]
  },
  {
   "cell_type": "markdown",
   "metadata": {},
   "source": [
    "## 3. 加载模型"
   ]
  },
  {
   "cell_type": "code",
   "execution_count": 32,
   "metadata": {},
   "outputs": [],
   "source": [
    "if model_type == '2_conv':\n",
    "    ewe_model = ConvModel(num_classes=num_classes, batch_size= batch_size, in_channels=channels, device=device)\n",
    "    attack_model = ConvModel(num_classes=num_classes, batch_size= batch_size, in_channels=channels, device=device)\n",
    "    clean_model = ConvModel(num_classes=num_classes, batch_size=batch_size, in_channels=channels, device=device)\n",
    "    \n",
    "    save_dir = \"/home/mlsnrs/data/data/21ss/24-xiyuan/XiYuan-WM-Reproduction/EWE/trained_model/mnist\"\n",
    "    \n",
    "    ewe_model.load_state_dict(torch.load(f'{save_dir}/ewe_model.pth'))\n",
    "    attack_model.load_state_dict(torch.load(f'{save_dir}/attack_model.pth'))\n",
    "    clean_model.load_state_dict(torch.load(f'{save_dir}/clean_model.pth'))\n",
    "else:\n",
    "    raise NotImplementedError('Model is not implemented.')"
   ]
  },
  {
   "cell_type": "markdown",
   "metadata": {},
   "source": [
    "## 4. 加载数据集"
   ]
  },
  {
   "cell_type": "code",
   "execution_count": 33,
   "metadata": {},
   "outputs": [],
   "source": [
    "if dataset == 'mnist' or dataset == 'fashion':\n",
    "    with open(os.path.join(\"data\", f\"{dataset}.pkl\"), 'rb') as f:\n",
    "        mnist = pickle.load(f)\n",
    "    x_train, y_train, x_test, y_test = mnist[\"training_images\"], mnist[\"training_labels\"], \\\n",
    "                                    mnist[\"test_images\"], mnist[\"test_labels\"]\n",
    "    x_train = np.reshape(x_train / 255, [-1, 1, 28, 28])\n",
    "    x_test = np.reshape(x_test / 255, [-1, 1, 28, 28])\n",
    "else:\n",
    "    raise NotImplementedError('Dataset is not implemented.')"
   ]
  },
  {
   "cell_type": "markdown",
   "metadata": {},
   "source": [
    "## 5. 推理"
   ]
  },
  {
   "cell_type": "code",
   "execution_count": 37,
   "metadata": {},
   "outputs": [
    {
     "name": "stderr",
     "output_type": "stream",
     "text": [
      "inferencing~: 100%|████████████████████████████████████████████████| 20/20 [00:00<00:00, 147.26it/s]\n"
     ]
    }
   ],
   "source": [
    "x_test_tensor = torch.tensor(x_test, dtype=torch.float32)\n",
    "y_test_tensor = torch.tensor(y_test, dtype=torch.long)\n",
    "test_dataset = TensorDataset(x_test_tensor, y_test_tensor)\n",
    "test_loader = DataLoader(test_dataset, batch_size=batch_size, shuffle=shuffle)\n",
    "\n",
    "output_test = []\n",
    "ewe_model.eval()\n",
    "ewe_model.to(device)\n",
    "for (x, _) in tqdm(test_loader, desc=f\"inferencing~\", ncols=100):\n",
    "    x = x.to(device)\n",
    "    output_test.extend(ewe_model(x).cpu().detach().numpy())\n",
    "\n",
    "ewe_model.to('cpu')\n",
    "torch.cuda.empty_cache()"
   ]
  }
 ],
 "metadata": {
  "kernelspec": {
   "display_name": "waymax",
   "language": "python",
   "name": "python3"
  },
  "language_info": {
   "codemirror_mode": {
    "name": "ipython",
    "version": 3
   },
   "file_extension": ".py",
   "mimetype": "text/x-python",
   "name": "python",
   "nbconvert_exporter": "python",
   "pygments_lexer": "ipython3",
   "version": "3.10.13"
  }
 },
 "nbformat": 4,
 "nbformat_minor": 2
}
